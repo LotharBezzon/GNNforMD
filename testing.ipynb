{
 "cells": [
  {
   "cell_type": "code",
   "execution_count": 1,
   "metadata": {},
   "outputs": [],
   "source": [
    "from torch_geometric.loader import DataLoader\n",
    "import torch\n",
    "from torch_geometric.loader import DataLoader\n",
    "from DataProcessing import read_data, make_graphs\n",
    "from models import GNN, equivariantGNN\n",
    "from sklearn.model_selection import train_test_split\n",
    "from training import train, test"
   ]
  },
  {
   "cell_type": "code",
   "execution_count": 3,
   "metadata": {},
   "outputs": [
    {
     "data": {
      "text/plain": [
       "496923"
      ]
     },
     "execution_count": 3,
     "metadata": {},
     "output_type": "execute_result"
    }
   ],
   "source": [
    "model = equivariantGNN()\n",
    "model = GNN(3,7,3)\n",
    "num_params = sum(p.numel() for p in model.parameters())\n",
    "num_params"
   ]
  },
  {
   "cell_type": "code",
   "execution_count": null,
   "metadata": {},
   "outputs": [],
   "source": [
    "data = read_data(['data/argon.lammpstrj'], molecular=False)\n",
    "charges = [None, 0]\n",
    "LJ_params = [None, (0.2378, 3.405)]\n",
    "graphs = make_graphs(data,charges, LJ_params, cutoff=3.9)\n",
    "graphs"
   ]
  },
  {
   "cell_type": "code",
   "execution_count": null,
   "metadata": {},
   "outputs": [],
   "source": [
    "charges = [None, -0.82, 0.41]\n",
    "LJ_params = [None, (0.155, 3.165), (0, 0)]\n",
    "files = [f'data/N216.{i}.lammpstrj' for i in range(91, 92)]\n",
    "water_data = read_data(files)\n",
    "water_graphs = make_graphs(water_data, charges, LJ_params, cutoff=3.5)\n",
    "water_graphs"
   ]
  },
  {
   "cell_type": "code",
   "execution_count": null,
   "metadata": {},
   "outputs": [],
   "source": [
    "graphs"
   ]
  },
  {
   "cell_type": "code",
   "execution_count": null,
   "metadata": {},
   "outputs": [],
   "source": [
    "a = torch.tensor([1])\n",
    "a = torch.stack([a, a])\n",
    "b = torch.tensor([4,5,6])\n",
    "b = torch.stack([b,b])\n",
    "c = torch.cat([a,b], dim=-1)\n",
    "a.shape, c.shape, c"
   ]
  }
 ],
 "metadata": {
  "kernelspec": {
   "display_name": "Python 3",
   "language": "python",
   "name": "python3"
  },
  "language_info": {
   "codemirror_mode": {
    "name": "ipython",
    "version": 3
   },
   "file_extension": ".py",
   "mimetype": "text/x-python",
   "name": "python",
   "nbconvert_exporter": "python",
   "pygments_lexer": "ipython3",
   "version": "3.9.7"
  }
 },
 "nbformat": 4,
 "nbformat_minor": 2
}
