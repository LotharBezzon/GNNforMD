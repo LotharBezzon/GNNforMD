{
 "cells": [
  {
   "cell_type": "code",
   "execution_count": 1,
   "metadata": {},
   "outputs": [],
   "source": [
    "from DataProcessing import read_data, make_graphs\n",
    "from models import GNN\n",
    "from training import test, load_checkpoint\n",
    "import torch\n",
    "from torch_geometric.loader import DataLoader"
   ]
  },
  {
   "cell_type": "markdown",
   "metadata": {},
   "source": [
    "Load model"
   ]
  },
  {
   "cell_type": "code",
   "execution_count": 5,
   "metadata": {},
   "outputs": [
    {
     "name": "stderr",
     "output_type": "stream",
     "text": [
      "C:\\Users\\cirob\\AppData\\Local\\Temp\\ipykernel_7348\\2470577699.py:5: FutureWarning: You are using `torch.load` with `weights_only=False` (the current default value), which uses the default pickle module implicitly. It is possible to construct malicious pickle data which will execute arbitrary code during unpickling (See https://github.com/pytorch/pytorch/blob/main/SECURITY.md#untrusted-models for more details). In a future release, the default value for `weights_only` will be flipped to `True`. This limits the functions that could be executed during unpickling. Arbitrary objects will no longer be allowed to be loaded via this mode unless they are explicitly allowlisted by the user via `torch.serialization.add_safe_globals`. We recommend you start setting `weights_only=True` for any use case where you don't have full control of the loaded file. Please open an issue on GitHub for any issues related to this experimental feature.\n",
      "  checkpoint = torch.load(checkpoint_path)\n"
     ]
    },
    {
     "ename": "RuntimeError",
     "evalue": "Error(s) in loading state_dict for GNN:\n\tUnexpected key(s) in state_dict: \"message_passing_layers.6.weight\", \"message_passing_layers.6.bias\", \"message_passing_layers.6.running_mean\", \"message_passing_layers.6.running_var\", \"message_passing_layers.6.num_batches_tracked\", \"message_passing_layers.7.mlp.mlp.0.weight\", \"message_passing_layers.7.mlp.mlp.0.bias\", \"message_passing_layers.7.mlp.mlp.3.weight\", \"message_passing_layers.7.mlp.mlp.3.bias\", \"message_passing_layers.7.mlp.mlp.6.weight\", \"message_passing_layers.7.mlp.mlp.6.bias\", \"message_passing_layers.7.mlp.mlp.9.weight\", \"message_passing_layers.7.mlp.mlp.9.bias\", \"message_passing_layers.7.mlp.mlp.11.weight\", \"message_passing_layers.7.mlp.mlp.11.bias\". ",
     "output_type": "error",
     "traceback": [
      "\u001b[1;31m---------------------------------------------------------------------------\u001b[0m",
      "\u001b[1;31mRuntimeError\u001b[0m                              Traceback (most recent call last)",
      "Cell \u001b[1;32mIn[5], line 6\u001b[0m\n\u001b[0;32m      4\u001b[0m checkpoint_path \u001b[38;5;241m=\u001b[39m \u001b[38;5;124m'\u001b[39m\u001b[38;5;124mcheckpoints/big_decoder_epoch_24.pth\u001b[39m\u001b[38;5;124m'\u001b[39m\n\u001b[0;32m      5\u001b[0m checkpoint \u001b[38;5;241m=\u001b[39m torch\u001b[38;5;241m.\u001b[39mload(checkpoint_path)\n\u001b[1;32m----> 6\u001b[0m \u001b[43mmodel\u001b[49m\u001b[38;5;241;43m.\u001b[39;49m\u001b[43mload_state_dict\u001b[49m\u001b[43m(\u001b[49m\u001b[43mcheckpoint\u001b[49m\u001b[43m[\u001b[49m\u001b[38;5;124;43m'\u001b[39;49m\u001b[38;5;124;43mmodel_state_dict\u001b[39;49m\u001b[38;5;124;43m'\u001b[39;49m\u001b[43m]\u001b[49m\u001b[43m)\u001b[49m\n",
      "File \u001b[1;32mc:\\Users\\cirob\\AppData\\Local\\Programs\\Python\\Python39\\lib\\site-packages\\torch\\nn\\modules\\module.py:2584\u001b[0m, in \u001b[0;36mModule.load_state_dict\u001b[1;34m(self, state_dict, strict, assign)\u001b[0m\n\u001b[0;32m   2576\u001b[0m         error_msgs\u001b[38;5;241m.\u001b[39minsert(\n\u001b[0;32m   2577\u001b[0m             \u001b[38;5;241m0\u001b[39m,\n\u001b[0;32m   2578\u001b[0m             \u001b[38;5;124m\"\u001b[39m\u001b[38;5;124mMissing key(s) in state_dict: \u001b[39m\u001b[38;5;132;01m{}\u001b[39;00m\u001b[38;5;124m. \u001b[39m\u001b[38;5;124m\"\u001b[39m\u001b[38;5;241m.\u001b[39mformat(\n\u001b[0;32m   2579\u001b[0m                 \u001b[38;5;124m\"\u001b[39m\u001b[38;5;124m, \u001b[39m\u001b[38;5;124m\"\u001b[39m\u001b[38;5;241m.\u001b[39mjoin(\u001b[38;5;124mf\u001b[39m\u001b[38;5;124m'\u001b[39m\u001b[38;5;124m\"\u001b[39m\u001b[38;5;132;01m{\u001b[39;00mk\u001b[38;5;132;01m}\u001b[39;00m\u001b[38;5;124m\"\u001b[39m\u001b[38;5;124m'\u001b[39m \u001b[38;5;28;01mfor\u001b[39;00m k \u001b[38;5;129;01min\u001b[39;00m missing_keys)\n\u001b[0;32m   2580\u001b[0m             ),\n\u001b[0;32m   2581\u001b[0m         )\n\u001b[0;32m   2583\u001b[0m \u001b[38;5;28;01mif\u001b[39;00m \u001b[38;5;28mlen\u001b[39m(error_msgs) \u001b[38;5;241m>\u001b[39m \u001b[38;5;241m0\u001b[39m:\n\u001b[1;32m-> 2584\u001b[0m     \u001b[38;5;28;01mraise\u001b[39;00m \u001b[38;5;167;01mRuntimeError\u001b[39;00m(\n\u001b[0;32m   2585\u001b[0m         \u001b[38;5;124m\"\u001b[39m\u001b[38;5;124mError(s) in loading state_dict for \u001b[39m\u001b[38;5;132;01m{}\u001b[39;00m\u001b[38;5;124m:\u001b[39m\u001b[38;5;130;01m\\n\u001b[39;00m\u001b[38;5;130;01m\\t\u001b[39;00m\u001b[38;5;132;01m{}\u001b[39;00m\u001b[38;5;124m\"\u001b[39m\u001b[38;5;241m.\u001b[39mformat(\n\u001b[0;32m   2586\u001b[0m             \u001b[38;5;28mself\u001b[39m\u001b[38;5;241m.\u001b[39m\u001b[38;5;18m__class__\u001b[39m\u001b[38;5;241m.\u001b[39m\u001b[38;5;18m__name__\u001b[39m, \u001b[38;5;124m\"\u001b[39m\u001b[38;5;130;01m\\n\u001b[39;00m\u001b[38;5;130;01m\\t\u001b[39;00m\u001b[38;5;124m\"\u001b[39m\u001b[38;5;241m.\u001b[39mjoin(error_msgs)\n\u001b[0;32m   2587\u001b[0m         )\n\u001b[0;32m   2588\u001b[0m     )\n\u001b[0;32m   2589\u001b[0m \u001b[38;5;28;01mreturn\u001b[39;00m _IncompatibleKeys(missing_keys, unexpected_keys)\n",
      "\u001b[1;31mRuntimeError\u001b[0m: Error(s) in loading state_dict for GNN:\n\tUnexpected key(s) in state_dict: \"message_passing_layers.6.weight\", \"message_passing_layers.6.bias\", \"message_passing_layers.6.running_mean\", \"message_passing_layers.6.running_var\", \"message_passing_layers.6.num_batches_tracked\", \"message_passing_layers.7.mlp.mlp.0.weight\", \"message_passing_layers.7.mlp.mlp.0.bias\", \"message_passing_layers.7.mlp.mlp.3.weight\", \"message_passing_layers.7.mlp.mlp.3.bias\", \"message_passing_layers.7.mlp.mlp.6.weight\", \"message_passing_layers.7.mlp.mlp.6.bias\", \"message_passing_layers.7.mlp.mlp.9.weight\", \"message_passing_layers.7.mlp.mlp.9.bias\", \"message_passing_layers.7.mlp.mlp.11.weight\", \"message_passing_layers.7.mlp.mlp.11.bias\". "
     ]
    }
   ],
   "source": [
    "model = GNN(3, 7, 3)\n",
    "lossFunc = torch.nn.L1Loss(reduction='sum')\n",
    "\n",
    "checkpoint_path = 'checkpoints/big_decoder_epoch_24.pth'\n",
    "checkpoint = torch.load(checkpoint_path)\n",
    "model.load_state_dict(checkpoint['model_state_dict'])"
   ]
  },
  {
   "cell_type": "markdown",
   "metadata": {},
   "source": [
    "Test large water system"
   ]
  },
  {
   "cell_type": "code",
   "execution_count": 2,
   "metadata": {},
   "outputs": [
    {
     "ename": "KeyboardInterrupt",
     "evalue": "",
     "output_type": "error",
     "traceback": [
      "\u001b[1;31m---------------------------------------------------------------------------\u001b[0m",
      "\u001b[1;31mKeyboardInterrupt\u001b[0m                         Traceback (most recent call last)",
      "Cell \u001b[1;32mIn[2], line 4\u001b[0m\n\u001b[0;32m      2\u001b[0m LJ_params \u001b[38;5;241m=\u001b[39m [\u001b[38;5;28;01mNone\u001b[39;00m, (\u001b[38;5;241m0.155\u001b[39m, \u001b[38;5;241m3.165\u001b[39m), (\u001b[38;5;241m0\u001b[39m, \u001b[38;5;241m0\u001b[39m)]\n\u001b[0;32m      3\u001b[0m data \u001b[38;5;241m=\u001b[39m read_data([\u001b[38;5;124m'\u001b[39m\u001b[38;5;124mdata/big_water.lammpstrj\u001b[39m\u001b[38;5;124m'\u001b[39m])\n\u001b[1;32m----> 4\u001b[0m test_graphs \u001b[38;5;241m=\u001b[39m \u001b[43mmake_graphs\u001b[49m\u001b[43m(\u001b[49m\u001b[43mdata\u001b[49m\u001b[43m,\u001b[49m\u001b[43m \u001b[49m\u001b[43mcharges\u001b[49m\u001b[43m,\u001b[49m\u001b[43m \u001b[49m\u001b[43mLJ_params\u001b[49m\u001b[43m,\u001b[49m\u001b[43m \u001b[49m\u001b[43mcutoff\u001b[49m\u001b[38;5;241;43m=\u001b[39;49m\u001b[38;5;241;43m2.3\u001b[39;49m\u001b[43m)\u001b[49m\n\u001b[0;32m      5\u001b[0m test_loader \u001b[38;5;241m=\u001b[39m DataLoader(test_graphs, batch_size\u001b[38;5;241m=\u001b[39m\u001b[38;5;241m32\u001b[39m)\n\u001b[0;32m      7\u001b[0m test_loss \u001b[38;5;241m=\u001b[39m test(model, test_loader, lossFunc)\n",
      "File \u001b[1;32mc:\\Users\\cirob\\OneDrive\\Desktop\\GitHub\\GNNforMD\\DataProcessing.py:145\u001b[0m, in \u001b[0;36mmake_graphs\u001b[1;34m(data, charges, LJ_params, cutoff)\u001b[0m\n\u001b[0;32m    143\u001b[0m positions \u001b[38;5;241m=\u001b[39m torch\u001b[38;5;241m.\u001b[39mtensor([[atom[\u001b[38;5;124m'\u001b[39m\u001b[38;5;124mx\u001b[39m\u001b[38;5;124m'\u001b[39m], atom[\u001b[38;5;124m'\u001b[39m\u001b[38;5;124my\u001b[39m\u001b[38;5;124m'\u001b[39m], atom[\u001b[38;5;124m'\u001b[39m\u001b[38;5;124mz\u001b[39m\u001b[38;5;124m'\u001b[39m]] \u001b[38;5;28;01mfor\u001b[39;00m atom \u001b[38;5;129;01min\u001b[39;00m atoms], dtype\u001b[38;5;241m=\u001b[39mtorch\u001b[38;5;241m.\u001b[39mfloat)\n\u001b[0;32m    144\u001b[0m start_nodes, end_nodes \u001b[38;5;241m=\u001b[39m edge_index\n\u001b[1;32m--> 145\u001b[0m dist_coords, dist_mod \u001b[38;5;241m=\u001b[39m \u001b[43mminimum_image_distance\u001b[49m\u001b[43m(\u001b[49m\u001b[43mpositions\u001b[49m\u001b[43m[\u001b[49m\u001b[43mstart_nodes\u001b[49m\u001b[43m]\u001b[49m\u001b[43m,\u001b[49m\u001b[43m \u001b[49m\u001b[43mpositions\u001b[49m\u001b[43m[\u001b[49m\u001b[43mend_nodes\u001b[49m\u001b[43m]\u001b[49m\u001b[43m,\u001b[49m\u001b[43m \u001b[49m\u001b[43mframe\u001b[49m\u001b[43m[\u001b[49m\u001b[38;5;124;43m'\u001b[39;49m\u001b[38;5;124;43mbox_size\u001b[39;49m\u001b[38;5;124;43m'\u001b[39;49m\u001b[43m]\u001b[49m\u001b[43m)\u001b[49m\n\u001b[0;32m    147\u001b[0m \u001b[38;5;66;03m# Filter out edges with distances greater than 2.3\u001b[39;00m\n\u001b[0;32m    148\u001b[0m mask \u001b[38;5;241m=\u001b[39m dist_mod \u001b[38;5;241m<\u001b[39m cutoff\n",
      "File \u001b[1;32mc:\\Users\\cirob\\OneDrive\\Desktop\\GitHub\\GNNforMD\\DataProcessing.py:91\u001b[0m, in \u001b[0;36mminimum_image_distance\u001b[1;34m(coords1, coords2, box_size)\u001b[0m\n\u001b[0;32m     88\u001b[0m     \u001b[38;5;28;01mraise\u001b[39;00m \u001b[38;5;167;01mValueError\u001b[39;00m(\u001b[38;5;124mf\u001b[39m\u001b[38;5;124m\"\u001b[39m\u001b[38;5;124mShape mismatch: coords1 has shape \u001b[39m\u001b[38;5;132;01m{\u001b[39;00mcoords1\u001b[38;5;241m.\u001b[39mshape\u001b[38;5;132;01m}\u001b[39;00m\u001b[38;5;124m, but coords2 has shape \u001b[39m\u001b[38;5;132;01m{\u001b[39;00mcoords2\u001b[38;5;241m.\u001b[39mshape\u001b[38;5;132;01m}\u001b[39;00m\u001b[38;5;124m\"\u001b[39m)\n\u001b[0;32m     90\u001b[0m delta \u001b[38;5;241m=\u001b[39m coords1 \u001b[38;5;241m-\u001b[39m coords2\n\u001b[1;32m---> 91\u001b[0m delta \u001b[38;5;241m-\u001b[39m\u001b[38;5;241m=\u001b[39m torch\u001b[38;5;241m.\u001b[39mround(\u001b[43mdelta\u001b[49m\u001b[43m \u001b[49m\u001b[38;5;241;43m/\u001b[39;49m\u001b[43m \u001b[49m\u001b[43mbox_size\u001b[49m) \u001b[38;5;241m*\u001b[39m box_size\n\u001b[0;32m     92\u001b[0m distance \u001b[38;5;241m=\u001b[39m torch\u001b[38;5;241m.\u001b[39mnorm(delta, dim\u001b[38;5;241m=\u001b[39m\u001b[38;5;241m-\u001b[39m\u001b[38;5;241m1\u001b[39m)\n\u001b[0;32m     93\u001b[0m \u001b[38;5;28;01mreturn\u001b[39;00m delta, distance\n",
      "\u001b[1;31mKeyboardInterrupt\u001b[0m: "
     ]
    }
   ],
   "source": [
    "charges = [None, -0.82, 0.41]\n",
    "LJ_params = [None, (0.155, 3.165), (0, 0)]\n",
    "data = read_data(['data/big_water.lammpstrj'])\n",
    "test_graphs = make_graphs(data, charges, LJ_params, cutoff=2.3)\n",
    "test_loader = DataLoader(test_graphs, batch_size=32)\n",
    "\n",
    "test_loss = test(model, test_loader, lossFunc)\n",
    "test_loss"
   ]
  },
  {
   "cell_type": "markdown",
   "metadata": {},
   "source": [
    "Test argon system"
   ]
  },
  {
   "cell_type": "code",
   "execution_count": 3,
   "metadata": {},
   "outputs": [
    {
     "ename": "NameError",
     "evalue": "name 'model' is not defined",
     "output_type": "error",
     "traceback": [
      "\u001b[1;31m---------------------------------------------------------------------------\u001b[0m",
      "\u001b[1;31mNameError\u001b[0m                                 Traceback (most recent call last)",
      "Cell \u001b[1;32mIn[3], line 7\u001b[0m\n\u001b[0;32m      4\u001b[0m test_graphs \u001b[38;5;241m=\u001b[39m make_graphs(data, charges, LJ_params, cutoff\u001b[38;5;241m=\u001b[39m\u001b[38;5;241m3.5\u001b[39m)\n\u001b[0;32m      5\u001b[0m test_loader \u001b[38;5;241m=\u001b[39m DataLoader(test_graphs, batch_size\u001b[38;5;241m=\u001b[39m\u001b[38;5;241m32\u001b[39m)\n\u001b[1;32m----> 7\u001b[0m test_loss \u001b[38;5;241m=\u001b[39m test(\u001b[43mmodel\u001b[49m, test_loader, lossFunc)\n\u001b[0;32m      8\u001b[0m test_loss\n",
      "\u001b[1;31mNameError\u001b[0m: name 'model' is not defined"
     ]
    }
   ],
   "source": [
    "charges = [None, 0]\n",
    "LJ_params = [None, (0.2378, 3.405)]\n",
    "data = read_data(['data/argon.lammpstrj'], molecular=False)\n",
    "test_graphs = make_graphs(data, charges, LJ_params, cutoff=3.5)\n",
    "test_loader = DataLoader(test_graphs, batch_size=32)\n",
    "\n",
    "test_loss = test(model, test_loader, lossFunc)\n",
    "test_loss"
   ]
  },
  {
   "cell_type": "code",
   "execution_count": 5,
   "metadata": {},
   "outputs": [
    {
     "data": {
      "text/plain": [
       "[Data(x=[400, 3], edge_index=[2, 0], edge_attr=[0, 7], y=[400, 3]),\n",
       " Data(x=[400, 3], edge_index=[2, 0], edge_attr=[0, 7], y=[400, 3]),\n",
       " Data(x=[400, 3], edge_index=[2, 0], edge_attr=[0, 7], y=[400, 3]),\n",
       " Data(x=[400, 3], edge_index=[2, 0], edge_attr=[0, 7], y=[400, 3]),\n",
       " Data(x=[400, 3], edge_index=[2, 0], edge_attr=[0, 7], y=[400, 3]),\n",
       " Data(x=[400, 3], edge_index=[2, 0], edge_attr=[0, 7], y=[400, 3]),\n",
       " Data(x=[400, 3], edge_index=[2, 0], edge_attr=[0, 7], y=[400, 3]),\n",
       " Data(x=[400, 3], edge_index=[2, 0], edge_attr=[0, 7], y=[400, 3]),\n",
       " Data(x=[400, 3], edge_index=[2, 0], edge_attr=[0, 7], y=[400, 3]),\n",
       " Data(x=[400, 3], edge_index=[2, 0], edge_attr=[0, 7], y=[400, 3]),\n",
       " Data(x=[400, 3], edge_index=[2, 0], edge_attr=[0, 7], y=[400, 3]),\n",
       " Data(x=[400, 3], edge_index=[2, 0], edge_attr=[0, 7], y=[400, 3]),\n",
       " Data(x=[400, 3], edge_index=[2, 0], edge_attr=[0, 7], y=[400, 3]),\n",
       " Data(x=[400, 3], edge_index=[2, 0], edge_attr=[0, 7], y=[400, 3]),\n",
       " Data(x=[400, 3], edge_index=[2, 0], edge_attr=[0, 7], y=[400, 3]),\n",
       " Data(x=[400, 3], edge_index=[2, 0], edge_attr=[0, 7], y=[400, 3]),\n",
       " Data(x=[400, 3], edge_index=[2, 0], edge_attr=[0, 7], y=[400, 3]),\n",
       " Data(x=[400, 3], edge_index=[2, 0], edge_attr=[0, 7], y=[400, 3]),\n",
       " Data(x=[400, 3], edge_index=[2, 0], edge_attr=[0, 7], y=[400, 3]),\n",
       " Data(x=[400, 3], edge_index=[2, 0], edge_attr=[0, 7], y=[400, 3]),\n",
       " Data(x=[400, 3], edge_index=[2, 0], edge_attr=[0, 7], y=[400, 3]),\n",
       " Data(x=[400, 3], edge_index=[2, 0], edge_attr=[0, 7], y=[400, 3]),\n",
       " Data(x=[400, 3], edge_index=[2, 0], edge_attr=[0, 7], y=[400, 3]),\n",
       " Data(x=[400, 3], edge_index=[2, 0], edge_attr=[0, 7], y=[400, 3]),\n",
       " Data(x=[400, 3], edge_index=[2, 0], edge_attr=[0, 7], y=[400, 3]),\n",
       " Data(x=[400, 3], edge_index=[2, 0], edge_attr=[0, 7], y=[400, 3]),\n",
       " Data(x=[400, 3], edge_index=[2, 0], edge_attr=[0, 7], y=[400, 3]),\n",
       " Data(x=[400, 3], edge_index=[2, 0], edge_attr=[0, 7], y=[400, 3]),\n",
       " Data(x=[400, 3], edge_index=[2, 0], edge_attr=[0, 7], y=[400, 3]),\n",
       " Data(x=[400, 3], edge_index=[2, 0], edge_attr=[0, 7], y=[400, 3]),\n",
       " Data(x=[400, 3], edge_index=[2, 0], edge_attr=[0, 7], y=[400, 3]),\n",
       " Data(x=[400, 3], edge_index=[2, 0], edge_attr=[0, 7], y=[400, 3]),\n",
       " Data(x=[400, 3], edge_index=[2, 0], edge_attr=[0, 7], y=[400, 3]),\n",
       " Data(x=[400, 3], edge_index=[2, 0], edge_attr=[0, 7], y=[400, 3]),\n",
       " Data(x=[400, 3], edge_index=[2, 0], edge_attr=[0, 7], y=[400, 3]),\n",
       " Data(x=[400, 3], edge_index=[2, 0], edge_attr=[0, 7], y=[400, 3]),\n",
       " Data(x=[400, 3], edge_index=[2, 0], edge_attr=[0, 7], y=[400, 3]),\n",
       " Data(x=[400, 3], edge_index=[2, 0], edge_attr=[0, 7], y=[400, 3]),\n",
       " Data(x=[400, 3], edge_index=[2, 0], edge_attr=[0, 7], y=[400, 3]),\n",
       " Data(x=[400, 3], edge_index=[2, 0], edge_attr=[0, 7], y=[400, 3]),\n",
       " Data(x=[400, 3], edge_index=[2, 0], edge_attr=[0, 7], y=[400, 3]),\n",
       " Data(x=[400, 3], edge_index=[2, 0], edge_attr=[0, 7], y=[400, 3]),\n",
       " Data(x=[400, 3], edge_index=[2, 0], edge_attr=[0, 7], y=[400, 3]),\n",
       " Data(x=[400, 3], edge_index=[2, 0], edge_attr=[0, 7], y=[400, 3]),\n",
       " Data(x=[400, 3], edge_index=[2, 0], edge_attr=[0, 7], y=[400, 3]),\n",
       " Data(x=[400, 3], edge_index=[2, 0], edge_attr=[0, 7], y=[400, 3]),\n",
       " Data(x=[400, 3], edge_index=[2, 0], edge_attr=[0, 7], y=[400, 3]),\n",
       " Data(x=[400, 3], edge_index=[2, 0], edge_attr=[0, 7], y=[400, 3]),\n",
       " Data(x=[400, 3], edge_index=[2, 0], edge_attr=[0, 7], y=[400, 3]),\n",
       " Data(x=[400, 3], edge_index=[2, 0], edge_attr=[0, 7], y=[400, 3]),\n",
       " Data(x=[400, 3], edge_index=[2, 0], edge_attr=[0, 7], y=[400, 3]),\n",
       " Data(x=[400, 3], edge_index=[2, 0], edge_attr=[0, 7], y=[400, 3]),\n",
       " Data(x=[400, 3], edge_index=[2, 0], edge_attr=[0, 7], y=[400, 3]),\n",
       " Data(x=[400, 3], edge_index=[2, 0], edge_attr=[0, 7], y=[400, 3]),\n",
       " Data(x=[400, 3], edge_index=[2, 0], edge_attr=[0, 7], y=[400, 3]),\n",
       " Data(x=[400, 3], edge_index=[2, 0], edge_attr=[0, 7], y=[400, 3]),\n",
       " Data(x=[400, 3], edge_index=[2, 0], edge_attr=[0, 7], y=[400, 3]),\n",
       " Data(x=[400, 3], edge_index=[2, 0], edge_attr=[0, 7], y=[400, 3]),\n",
       " Data(x=[400, 3], edge_index=[2, 0], edge_attr=[0, 7], y=[400, 3]),\n",
       " Data(x=[400, 3], edge_index=[2, 0], edge_attr=[0, 7], y=[400, 3]),\n",
       " Data(x=[400, 3], edge_index=[2, 0], edge_attr=[0, 7], y=[400, 3]),\n",
       " Data(x=[400, 3], edge_index=[2, 0], edge_attr=[0, 7], y=[400, 3]),\n",
       " Data(x=[400, 3], edge_index=[2, 0], edge_attr=[0, 7], y=[400, 3]),\n",
       " Data(x=[400, 3], edge_index=[2, 0], edge_attr=[0, 7], y=[400, 3]),\n",
       " Data(x=[400, 3], edge_index=[2, 0], edge_attr=[0, 7], y=[400, 3]),\n",
       " Data(x=[400, 3], edge_index=[2, 0], edge_attr=[0, 7], y=[400, 3]),\n",
       " Data(x=[400, 3], edge_index=[2, 0], edge_attr=[0, 7], y=[400, 3]),\n",
       " Data(x=[400, 3], edge_index=[2, 0], edge_attr=[0, 7], y=[400, 3]),\n",
       " Data(x=[400, 3], edge_index=[2, 0], edge_attr=[0, 7], y=[400, 3]),\n",
       " Data(x=[400, 3], edge_index=[2, 0], edge_attr=[0, 7], y=[400, 3]),\n",
       " Data(x=[400, 3], edge_index=[2, 0], edge_attr=[0, 7], y=[400, 3]),\n",
       " Data(x=[400, 3], edge_index=[2, 0], edge_attr=[0, 7], y=[400, 3]),\n",
       " Data(x=[400, 3], edge_index=[2, 0], edge_attr=[0, 7], y=[400, 3]),\n",
       " Data(x=[400, 3], edge_index=[2, 0], edge_attr=[0, 7], y=[400, 3]),\n",
       " Data(x=[400, 3], edge_index=[2, 0], edge_attr=[0, 7], y=[400, 3]),\n",
       " Data(x=[400, 3], edge_index=[2, 0], edge_attr=[0, 7], y=[400, 3]),\n",
       " Data(x=[400, 3], edge_index=[2, 0], edge_attr=[0, 7], y=[400, 3]),\n",
       " Data(x=[400, 3], edge_index=[2, 0], edge_attr=[0, 7], y=[400, 3]),\n",
       " Data(x=[400, 3], edge_index=[2, 0], edge_attr=[0, 7], y=[400, 3]),\n",
       " Data(x=[400, 3], edge_index=[2, 0], edge_attr=[0, 7], y=[400, 3]),\n",
       " Data(x=[400, 3], edge_index=[2, 0], edge_attr=[0, 7], y=[400, 3]),\n",
       " Data(x=[400, 3], edge_index=[2, 0], edge_attr=[0, 7], y=[400, 3]),\n",
       " Data(x=[400, 3], edge_index=[2, 0], edge_attr=[0, 7], y=[400, 3]),\n",
       " Data(x=[400, 3], edge_index=[2, 0], edge_attr=[0, 7], y=[400, 3]),\n",
       " Data(x=[400, 3], edge_index=[2, 0], edge_attr=[0, 7], y=[400, 3]),\n",
       " Data(x=[400, 3], edge_index=[2, 0], edge_attr=[0, 7], y=[400, 3]),\n",
       " Data(x=[400, 3], edge_index=[2, 0], edge_attr=[0, 7], y=[400, 3]),\n",
       " Data(x=[400, 3], edge_index=[2, 0], edge_attr=[0, 7], y=[400, 3]),\n",
       " Data(x=[400, 3], edge_index=[2, 0], edge_attr=[0, 7], y=[400, 3]),\n",
       " Data(x=[400, 3], edge_index=[2, 0], edge_attr=[0, 7], y=[400, 3]),\n",
       " Data(x=[400, 3], edge_index=[2, 0], edge_attr=[0, 7], y=[400, 3]),\n",
       " Data(x=[400, 3], edge_index=[2, 0], edge_attr=[0, 7], y=[400, 3]),\n",
       " Data(x=[400, 3], edge_index=[2, 0], edge_attr=[0, 7], y=[400, 3]),\n",
       " Data(x=[400, 3], edge_index=[2, 0], edge_attr=[0, 7], y=[400, 3]),\n",
       " Data(x=[400, 3], edge_index=[2, 0], edge_attr=[0, 7], y=[400, 3]),\n",
       " Data(x=[400, 3], edge_index=[2, 0], edge_attr=[0, 7], y=[400, 3]),\n",
       " Data(x=[400, 3], edge_index=[2, 0], edge_attr=[0, 7], y=[400, 3]),\n",
       " Data(x=[400, 3], edge_index=[2, 0], edge_attr=[0, 7], y=[400, 3]),\n",
       " Data(x=[400, 3], edge_index=[2, 0], edge_attr=[0, 7], y=[400, 3]),\n",
       " Data(x=[400, 3], edge_index=[2, 0], edge_attr=[0, 7], y=[400, 3])]"
      ]
     },
     "execution_count": 5,
     "metadata": {},
     "output_type": "execute_result"
    }
   ],
   "source": [
    "test_graphs"
   ]
  }
 ],
 "metadata": {
  "kernelspec": {
   "display_name": "Python 3",
   "language": "python",
   "name": "python3"
  },
  "language_info": {
   "codemirror_mode": {
    "name": "ipython",
    "version": 3
   },
   "file_extension": ".py",
   "mimetype": "text/x-python",
   "name": "python",
   "nbconvert_exporter": "python",
   "pygments_lexer": "ipython3",
   "version": "3.9.7"
  }
 },
 "nbformat": 4,
 "nbformat_minor": 2
}
