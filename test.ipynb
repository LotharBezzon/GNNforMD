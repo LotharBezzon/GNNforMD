{
 "cells": [
  {
   "cell_type": "code",
   "execution_count": null,
   "metadata": {},
   "outputs": [],
   "source": [
    "!pip install --upgrade matplotlib numpy"
   ]
  },
  {
   "cell_type": "code",
   "execution_count": 2,
   "metadata": {},
   "outputs": [],
   "source": [
    "from DataProcessing import read_data, make_graphs\n",
    "from models import GNN\n",
    "from training import test, load_checkpoint\n",
    "import torch\n",
    "from torch_geometric.loader import DataLoader\n",
    "import numpy as np\n",
    "import matplotlib.pyplot as plt\n",
    "from torch_geometric.data import Data"
   ]
  },
  {
   "cell_type": "markdown",
   "metadata": {},
   "source": [
    "Load model"
   ]
  },
  {
   "cell_type": "code",
   "execution_count": null,
   "metadata": {},
   "outputs": [],
   "source": [
    "model = GNN(3, 7, 3)\n",
    "lossFunc = torch.nn.L1Loss(reduction='sum')\n",
    "\n",
    "checkpoint_path = 'checkpoints/mpl_out_epoch_30.pth'\n",
    "checkpoint = torch.load(checkpoint_path)\n",
    "model.load_state_dict(checkpoint['model_state_dict'])\n",
    "model.eval()"
   ]
  },
  {
   "cell_type": "markdown",
   "metadata": {},
   "source": [
    "Loss vs epoch plot"
   ]
  },
  {
   "cell_type": "code",
   "execution_count": null,
   "metadata": {},
   "outputs": [],
   "source": [
    "# Initialize lists to store the data\n",
    "epochs = []\n",
    "train_losses = []\n",
    "test_losses = []\n",
    "\n",
    "# Read the data from the file\n",
    "with open('training_log.txt', 'r') as file:\n",
    "    lines = file.readlines()[:72]  # Read lines 61 to 120 (0-based index)\n",
    "\n",
    "    for line in lines:\n",
    "        if line.startswith('Epoch:'):\n",
    "            parts = line.split(',')\n",
    "            epoch = int(parts[0].split(':')[1].strip())\n",
    "            train_loss = float(parts[1].split(':')[1].strip())\n",
    "            test_loss = float(parts[2].split(':')[1].strip())\n",
    "            \n",
    "            epochs.append(epoch)\n",
    "            train_losses.append(train_loss)\n",
    "            test_losses.append(test_loss)\n",
    "\n",
    "# Plot the data\n",
    "plt.figure(figsize=(10, 6))\n",
    "plt.plot(epochs, train_losses, label='Train Loss')\n",
    "plt.plot(epochs, test_losses, label='Test Loss')\n",
    "plt.xlabel('Epoch')\n",
    "plt.ylabel('Loss')\n",
    "plt.title('Train and Test Loss Over Time')\n",
    "plt.legend()\n",
    "plt.grid(True)\n",
    "plt.show()"
   ]
  },
  {
   "cell_type": "markdown",
   "metadata": {},
   "source": [
    "# Tests on different systems\n",
    "1) Test the model with a 1600 water molecules system (it was trained on 216 molecules systems). It should achieve similar performance."
   ]
  },
  {
   "cell_type": "code",
   "execution_count": null,
   "metadata": {},
   "outputs": [],
   "source": [
    "charges = [None, -0.82, 0.41]\n",
    "LJ_params = [None, (0.155, 3.165), (0, 0)]\n",
    "data = read_data(['data/big_water.lammpstrj'])\n",
    "test_graphs = make_graphs(data, charges, LJ_params, cutoff=3.4)\n",
    "test_loader = DataLoader(test_graphs, batch_size=16)\n",
    "\n",
    "test_loss = test(model, test_loader, lossFunc)\n",
    "np.array(test_loss) / 4800 * 648"
   ]
  },
  {
   "cell_type": "code",
   "execution_count": null,
   "metadata": {},
   "outputs": [],
   "source": [
    "tot = 0\n",
    "for graph in test_graphs:\n",
    "    tot += torch.sum(torch.abs(graph.y))\n",
    "tot / 4800 / len(test_graphs)"
   ]
  },
  {
   "cell_type": "markdown",
   "metadata": {},
   "source": [
    "2) Test on argon system (varying cutoff radius). The performance depends on how well the model learned O-O Lennard-Jones interaction during training."
   ]
  },
  {
   "cell_type": "code",
   "execution_count": null,
   "metadata": {},
   "outputs": [],
   "source": [
    "charges = [None, 0]\n",
    "LJ_params = [None, (0.2378, 3.405)]\n",
    "data = read_data(['data/argon.lammpstrj'], molecular=False)\n",
    "cutoffs = np.linspace(3, 5, 11)\n",
    "argon_losses = []\n",
    "for cutoff in cutoffs:\n",
    "    argon_graphs = make_graphs(data, charges, LJ_params, cutoff=cutoff)\n",
    "    argon_loader = DataLoader(argon_graphs, batch_size=32)\n",
    "    argon_loss = test(model, argon_loader, lossFunc)\n",
    "    argon_losses.append(argon_loss)\n",
    "\n",
    "plt.figure(figsize=(10, 6))\n",
    "plt.plot(cutoffs, argon_losses, marker='o')\n",
    "plt.xlabel('Cutoff')\n",
    "plt.ylabel('Argon Loss')\n",
    "plt.title('Argon Loss vs Cutoff')\n",
    "plt.grid(True)\n",
    "plt.show()"
   ]
  },
  {
   "cell_type": "markdown",
   "metadata": {},
   "source": [
    "# Single potential tests\n",
    "How much Physics did the model learn?  \n",
    "Assesing how good it fits the single potentials is a good method to evaluate transferability.  \n",
    "The tests are done creating graphs with two nodes at variyng distance. The particle parameters are similar to those in the training data."
   ]
  },
  {
   "cell_type": "code",
   "execution_count": 8,
   "metadata": {},
   "outputs": [],
   "source": [
    "def plot_potential(force_func, distances, nodes, ax=0):\n",
    "    if force_func == bound:\n",
    "        edge_type = torch.tensor([0,1,0], dtype=torch.float)\n",
    "    else: edge_type = torch.tensor([1,0,0], dtype=torch.float)\n",
    "\n",
    "    direction = torch.tensor([0,0,0], dtype=torch.float)\n",
    "    direction[ax] = 1\n",
    "\n",
    "    graphs = []\n",
    "    for distance in distances:\n",
    "        distance = torch.tensor([distance], dtype=torch.float)\n",
    "        edge_attr1=torch.cat([edge_type, distance, direction])\n",
    "        edge_attr2=torch.cat([edge_type, distance, -direction])\n",
    "        graph = Data(x=torch.tensor(nodes, dtype=torch.float),\n",
    "                    edge_index=torch.tensor([[0, 1], [1, 0]]),\n",
    "                    edge_attr=torch.stack([edge_attr1, edge_attr2]))\n",
    "        graphs.append(graph)\n",
    "\n",
    "    data = DataLoader(graphs, batch_size=1)\n",
    "    preds = []\n",
    "    predsy = []\n",
    "    predsz = []\n",
    "    for graph in data:\n",
    "        with torch.no_grad():\n",
    "            out = model(graph)\n",
    "        preds.append(out[0][ax].detach().numpy())\n",
    "        predsy.append(out[0][ax-2].detach().numpy())\n",
    "        predsz.append(out[0][ax-1].detach().numpy())\n",
    "    \n",
    "    if force_func == bound:\n",
    "        gt = [force_func(d) for d in distances]\n",
    "    elif force_func == Coul_force:\n",
    "        gt = [force_func(d, nodes[0][0], nodes[1][0]) for d in distances]\n",
    "    elif force_func == LJ_force:\n",
    "        gt = [force_func(d, np.sqrt(nodes[0][1] * nodes[1][1]), np.sqrt(nodes[0][2] * nodes[1][2])) for d in distances]\n",
    "    gty = [0 for _ in distances]\n",
    "    gtz = [0 for _ in distances]\n",
    "\n",
    "    fig, axs = plt.subplots(3, 1, figsize=(6, 9))\n",
    "\n",
    "    axs[0].plot(distances, gt, label='Ground Truth', color='blue', linestyle='--')\n",
    "    axs[0].plot(distances, preds, label='Predictions', color='blue', linestyle='-')\n",
    "    axs[0].set_xlabel('Distance')\n",
    "    axs[0].set_ylabel('Force X')\n",
    "    axs[0].set_title('Ground Truth vs Predictions (X)')\n",
    "    axs[0].legend()\n",
    "    axs[0].grid(True)\n",
    "\n",
    "    axs[1].plot(distances, gty, label='Ground Truth', color='green', linestyle='--')\n",
    "    axs[1].plot(distances, predsy, label='Predictions', color='green', linestyle='-')\n",
    "    axs[1].set_xlabel('Distance')\n",
    "    axs[1].set_ylabel('Force Y')\n",
    "    axs[1].set_title('Ground Truth vs Predictions (Y)')\n",
    "    axs[1].legend()\n",
    "    axs[1].grid(True)\n",
    "\n",
    "    axs[2].plot(distances, gtz, label='Ground Truth', color='purple', linestyle='--')\n",
    "    axs[2].plot(distances, predsz, label='Predictions', color='purple', linestyle='-')\n",
    "    axs[2].set_xlabel('Distance')\n",
    "    axs[2].set_ylabel('Force Z')\n",
    "    axs[2].set_title('Ground Truth vs Predictions (Z)')\n",
    "    axs[2].legend()\n",
    "    axs[2].grid(True)\n",
    "\n",
    "    plt.tight_layout()"
   ]
  },
  {
   "cell_type": "code",
   "execution_count": 9,
   "metadata": {},
   "outputs": [],
   "source": [
    "# LJ potential\n",
    "def LJ_force(r, epsilon, sigma):\n",
    "    return 4 * epsilon * (12 * sigma**12 / r ** 13 - 6 * sigma**6 / r ** 7)\n",
    "\n",
    "# Coulomb potential\n",
    "def Coul_force(r, q1, q2, c=332.0637):\n",
    "    return c * q1 * q2 / r ** 2\n",
    "\n",
    "# harmonic bound\n",
    "def bound(r, k=529.581, r0=1.012):\n",
    "    return - 2 * k * (r - r0)"
   ]
  },
  {
   "cell_type": "code",
   "execution_count": null,
   "metadata": {},
   "outputs": [],
   "source": [
    "distances = np.linspace(2.5, 4.5, 51)\n",
    "nodes = [[0, 0.155, 3.165], [0, 0.155, 3.165]]\n",
    "\n",
    "plot_potential(LJ_force, distances, nodes)"
   ]
  },
  {
   "cell_type": "code",
   "execution_count": null,
   "metadata": {},
   "outputs": [],
   "source": [
    "distances = torch.linspace(1, 5, 51)\n",
    "\n",
    "plot_potential(Coul_force, distances, [[-0.82, 0.155, 3.165], [0.41, 0, 0]])\n"
   ]
  },
  {
   "cell_type": "code",
   "execution_count": null,
   "metadata": {},
   "outputs": [],
   "source": [
    "distances = np.linspace(0.9, 1.15, 51)\n",
    "nodes = [[-0.82, 0.155, 3.165], [0.41, 0, 0]]\n",
    "\n",
    "plot_potential(bound, distances, nodes)"
   ]
  },
  {
   "cell_type": "markdown",
   "metadata": {},
   "source": [
    "Generalization is not good at all. But can the model at least be fine-tuned easily?  \n",
    "These are the results after further training including both water and argon systems"
   ]
  },
  {
   "cell_type": "code",
   "execution_count": null,
   "metadata": {},
   "outputs": [],
   "source": [
    "checkpoint_path = 'checkpoints/argon_epoch_60.pth'\n",
    "checkpoint = torch.load(checkpoint_path)\n",
    "model.load_state_dict(checkpoint['model_state_dict'])\n",
    "model.eval()"
   ]
  },
  {
   "cell_type": "code",
   "execution_count": null,
   "metadata": {},
   "outputs": [],
   "source": [
    "distances = np.linspace(3, 4.5, 51)\n",
    "nodes = [[0, 0.2378, 3.405], [0, 0.2378, 3.405]]\n",
    "\n",
    "plot_potential(LJ_force, distances, nodes, ax=0)"
   ]
  },
  {
   "cell_type": "code",
   "execution_count": null,
   "metadata": {},
   "outputs": [],
   "source": [
    "distances = torch.linspace(1, 5, 51)\n",
    "\n",
    "plot_potential(Coul_force, distances, [[-0.82, 0.155, 3.165], [0.41, 0, 0]])"
   ]
  },
  {
   "cell_type": "code",
   "execution_count": null,
   "metadata": {},
   "outputs": [],
   "source": [
    "distances = np.linspace(0.9, 1.15, 51)\n",
    "nodes = [[-0.82, 0.155, 3.165], [0.41, 0, 0]]\n",
    "\n",
    "plot_potential(bound, distances, nodes)"
   ]
  }
 ],
 "metadata": {
  "kernelspec": {
   "display_name": "Python 3",
   "language": "python",
   "name": "python3"
  },
  "language_info": {
   "codemirror_mode": {
    "name": "ipython",
    "version": 3
   },
   "file_extension": ".py",
   "mimetype": "text/x-python",
   "name": "python",
   "nbconvert_exporter": "python",
   "pygments_lexer": "ipython3",
   "version": "3.9.7"
  }
 },
 "nbformat": 4,
 "nbformat_minor": 2
}
